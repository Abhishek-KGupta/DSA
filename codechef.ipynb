{
  "nbformat": 4,
  "nbformat_minor": 0,
  "metadata": {
    "colab": {
      "name": "codechef",
      "provenance": [],
      "collapsed_sections": [],
      "include_colab_link": true
    },
    "kernelspec": {
      "name": "python3",
      "display_name": "Python 3"
    }
  },
  "cells": [
    {
      "cell_type": "markdown",
      "metadata": {
        "id": "view-in-github",
        "colab_type": "text"
      },
      "source": [
        "<a href=\"https://colab.research.google.com/github/Abhishek-KGupta/DSA/blob/python/codechef.ipynb\" target=\"_parent\"><img src=\"https://colab.research.google.com/assets/colab-badge.svg\" alt=\"Open In Colab\"/></a>"
      ]
    },
    {
      "cell_type": "code",
      "metadata": {
        "id": "rtNex9MF4k3i"
      },
      "source": [
        "from IPython.display import display, Javascript\n",
        "from google.colab.output import eval_js\n",
        "from base64 import b64decode\n",
        " \n",
        "def take_photo(filename='photo.jpg', quality=0.8):\n",
        "  js = Javascript('''\n",
        "    async function takePhoto(quality) {\n",
        "      const div = document.createElement('div');\n",
        "      const capture = document.createElement('button');\n",
        "      capture.textContent = 'Capture';\n",
        "      div.appendChild(capture);\n",
        " \n",
        "      const video = document.createElement('video');\n",
        "      video.style.display = 'block';\n",
        "      const stream = await navigator.mediaDevices.getUserMedia({video: true});\n",
        " \n",
        "      document.body.appendChild(div);\n",
        "      div.appendChild(video);\n",
        "      video.srcObject = stream;\n",
        "      await video.play();\n",
        " \n",
        "      // Resize the output to fit the video element.\n",
        "      google.colab.output.setIframeHeight(document.documentElement.scrollHeight, true);\n",
        " \n",
        "      // Wait for Capture to be clicked.\n",
        "      await new Promise((resolve) => capture.onclick = resolve);\n",
        " \n",
        "      const canvas = document.createElement('canvas');\n",
        "      canvas.width = video.videoWidth;\n",
        "      canvas.height = video.videoHeight;\n",
        "      canvas.getContext('2d').drawImage(video, 0, 0);\n",
        "      stream.getVideoTracks()[0].stop();\n",
        "      div.remove();\n",
        "      return canvas.toDataURL('image/jpeg', quality);\n",
        "    }\n",
        "    ''')\n",
        "  display(js)\n",
        "  data = eval_js('takePhoto({})'.format(quality))\n",
        "  binary = b64decode(data.split(',')[1])\n",
        "  with open(filename, 'wb') as f:\n",
        "    f.write(binary)\n",
        "  return filename"
      ],
      "execution_count": null,
      "outputs": []
    },
    {
      "cell_type": "code",
      "metadata": {
        "id": "OER-810nL3F4"
      },
      "source": [
        "# code gladiator semifinals\n",
        "\n",
        "\n",
        "\n",
        "\n",
        "import java.util.*; \n",
        "import java.io.*; \n",
        "  \n",
        "public class CandidateCode { \n",
        " static class FastReader{ BufferedReader br;StringTokenizer st;public FastReader(){br = new BufferedReader(new InputStreamReader(System.in));}String next(){while (st == null || !st.hasMoreElements()){try{st = new StringTokenizer(br.readLine());}catch (IOException  e){e.printStackTrace();}}return st.nextToken();}int nextInt(){ return Integer.parseInt(next());}long nextLong(){return Long.parseLong(next());}double nextDouble(){return Double.parseDouble(next());}String nextLine(){String str = \"\"; try{str = br.readLine(); } catch (IOException e) {e.printStackTrace();} return str; }} \n",
        " static long mod = (long)(1e9+7); \n",
        "// static long mod = 998244353; \n",
        "// static Scanner sc = new Scanner(System.in); \n",
        " static FastReader sc = new FastReader(); \n",
        " static PrintWriter out = new PrintWriter(System.out); \n",
        " public static void main (String[] args) { \n",
        "  int ttt = 1; \n",
        "//     ttt = sc.nextInt(); \n",
        "     z : for(int tc=1;tc<=ttt;tc++) { \n",
        "      Scanner sc = new Scanner(System.in); \n",
        "      int n = sc.nextInt(); \n",
        "      int r = sc.nextInt(); \n",
        "      List<int[]> g[] = new ArrayList[n+1]; \n",
        "      for(int i=1;i<=n;i++) g[i] = new ArrayList<>(); \n",
        "      for(int i=1;i<=r;i++) { \n",
        "       int u = sc.nextInt(); \n",
        "       int v = sc.nextInt(); \n",
        "       int c = sc.nextInt(); \n",
        "       g[u].add(new int[] {v,c}); \n",
        "       g[v].add(new int[] {u,c}); \n",
        "      } \n",
        "      ArrayList<Integer> a = new ArrayList<>(); \n",
        "      PriorityQueue<long[]> pq = new PriorityQueue<>(new Comparator<long[]>() { \n",
        " \n",
        "    @Override \n",
        "    public int compare(long[] o1, long[] o2) { \n",
        "     if(o1[1]<o2[1]) return -1; \n",
        "     return 1; \n",
        "    } \n",
        "        \n",
        "      }); \n",
        "      long dist[] = new long[n+1]; \n",
        "      Arrays.fill(dist, Long.MAX_VALUE); \n",
        "      dist[1] = 0; \n",
        "      long ans = Long.MAX_VALUE; \n",
        "      pq.add(new long[] {1,0}); \n",
        "      while(!pq.isEmpty()) { \n",
        "       long cur[] = pq.poll(); \n",
        "       for(int b[] : g[(int)(cur[0])]) { \n",
        "        long cdist = Math.max(0, b[1] - cur[1]); \n",
        "        if(dist[b[0]]>cdist+cur[1]) { \n",
        "         dist[b[0]] = cdist + cur[1]; \n",
        "         pq.add(new long[] {b[0],cdist+cur[1]}); \n",
        "//         System.out.println(b[0]+\" \"+cdist); \n",
        "        } \n",
        "       } \n",
        "      } \n",
        "      if(dist[n] == Long.MAX_VALUE) out.write(\"NOT POSSIBLE\"); \n",
        "      else out.write(dist[n]+\"\\n\"); \n",
        "     } \n",
        "  out.close(); \n",
        " } \n",
        "}"
      ],
      "execution_count": null,
      "outputs": []
    },
    {
      "cell_type": "code",
      "metadata": {
        "id": "sdQ4CH2n4k3q"
      },
      "source": [
        "from IPython.display import Image\n",
        "try:\n",
        "  filename = take_photo()\n",
        "  print('Saved to {}'.format(filename))\n",
        "  \n",
        "  # Show the image which was just taken.\n",
        "  display(Image(filename))\n",
        "except Exception as err:\n",
        "  # Errors will be thrown if the user does not have a webcam or if they do not\n",
        "  # grant the page permission to access it.\n",
        "  print(str(err))"
      ],
      "execution_count": null,
      "outputs": []
    },
    {
      "cell_type": "code",
      "metadata": {
        "id": "PWMv1oF0KhUv"
      },
      "source": [
        "tcases = int(input())\n",
        "for i in range(tcases):\n",
        "    size, pos = map(int,input().split())\n",
        "    nums = list(map(int,input().split()))\n",
        "    val = [x for x in nums if pos % x == 0]\n",
        "    if(val):\n",
        "        print(max(val))\n",
        "    else:\n",
        "        print(\"-1\")"
      ],
      "execution_count": null,
      "outputs": []
    },
    {
      "cell_type": "code",
      "metadata": {
        "id": "Ts32Wr83NLVm"
      },
      "source": [
        "#frequency of digits\n",
        "for i in range(int(input())):\n",
        "  a=[]\n",
        "  p=int(input())\n",
        "  a=list(map(int,input().split()))[:p]\n",
        "  count = {} \n",
        "  for i in a: \n",
        "    count[i] = count.get(i, 0) +1\n",
        "  print(count) \n",
        "  \n",
        "\n"
      ],
      "execution_count": null,
      "outputs": []
    },
    {
      "cell_type": "code",
      "metadata": {
        "id": "fHkix-tVcvNT"
      },
      "source": [
        "t=int(input())\n",
        "for i in range(t):\n",
        "  n,k,x,y=map(int,input().split())\n",
        "  #print(n,k,x,y)\n",
        "  f=0\n",
        "  if((t>=1 and t<=100) and (n>=1 and n<=1000) and (x>=0 and x<=n-1)and (y>=0 and y<=n-1)and (k>=0 and k<=1000)):\n",
        "    while True:\n",
        "     if(x==y):\n",
        "        print(\"YES\")\n",
        "        break\n",
        "     else:\n",
        "       x=(x+k)%n\n",
        "       f=f+1\n",
        "       if(f==n+1):\n",
        "          print(\"NO\")\n",
        "          break\n",
        "   \n",
        "    "
      ],
      "execution_count": null,
      "outputs": []
    },
    {
      "cell_type": "code",
      "metadata": {
        "id": "gY8km6ftayNo"
      },
      "source": [
        "n=int(input())\n",
        "f=0\n",
        "x=0\n",
        "a=list(map(int, input().split()))[:n]#taking n inputs in single line\n",
        "#print(a)\n",
        "c=int(input())\n",
        "for i in range(n):\n",
        "  if (a[i]==0):\n",
        "    f=1\n",
        "    b=i\n",
        "if (f==1):\n",
        "  while x<=n:\n",
        "    for i in range(n):\n",
        "      if (b<c):\n",
        "        c=c-a[c]\n",
        "      if (b>c):\n",
        "        c=c+a[c]\n",
        "      if (b==c):\n",
        "        print(\"true\")\n",
        "        f=2\n",
        "        break\n",
        "    x=x+1\n",
        "    if f==2:\n",
        "      break\n",
        "if f==0 or f==1:\n",
        "  print(\"false\")"
      ],
      "execution_count": null,
      "outputs": []
    },
    {
      "cell_type": "code",
      "metadata": {
        "id": "TQcQ8GRbaWgI"
      },
      "source": [
        "t=int(input())\n",
        "for x in range(t):\n",
        "  i=int(input())\n",
        "  n=((i%10)-1)*10\n",
        "  c=0\n",
        "  while(i>0):\n",
        "    i=i//10\n",
        "    n=n+1+c\n",
        "    c=c+1\n",
        "  d=((i%10)-1)*(10+c)\n",
        "  print(n)"
      ],
      "execution_count": null,
      "outputs": []
    },
    {
      "cell_type": "code",
      "metadata": {
        "id": "xlu4wRLvzYBU"
      },
      "source": [
        "import math\n",
        "t=int(input())\n",
        "for x in range(t):\n",
        "  a=[]\n",
        "  j=0\n",
        "  n, k=map(int, input().split())\n",
        "  a= list(map(int, input().split()))[:n]\n",
        "  nq=a[0]\n",
        "  d=0\n",
        "  while nq>=0 and d<n:\n",
        "    nq=nq+a[d]\n",
        "    nq=a[d]-k\n",
        "    d=d+1\n",
        "  if nq>=0:\n",
        "    d=d+(nq//k)+1\n",
        "  print(d)\n",
        "\n"
      ],
      "execution_count": null,
      "outputs": []
    },
    {
      "cell_type": "code",
      "metadata": {
        "id": "vib7WObvmU1w"
      },
      "source": [
        "t= int(input())\n",
        "for x in range(t):\n",
        "  n= int(input())\n",
        "  s=input()\n",
        "  if (s.find(s[-1],0,len(s)-1)!=-1):\n",
        "    print(\"YES\")\n",
        "  else:\n",
        "    print(\"NO\")"
      ],
      "execution_count": null,
      "outputs": []
    },
    {
      "cell_type": "code",
      "metadata": {
        "id": "c8_Zj3MgDCft"
      },
      "source": [
        "for _ in range(int(input())):\n",
        "    l=int(input())\n",
        "    s=input()\n",
        "    if s.count(s[-1])>1:\n",
        "        print(\"YES\")\n",
        "    else:\n",
        "        print(\"NO\")"
      ],
      "execution_count": null,
      "outputs": []
    },
    {
      "cell_type": "code",
      "metadata": {
        "id": "nwOYMJPVzzMn"
      },
      "source": [
        "for _ in range(int(input())):                   \n",
        "    n, k = map(int, input().split())            \n",
        "    q_list = list(map(int, input().split()))    \n",
        "    remaining_queries = days = 0\n",
        "    while remaining_queries >= 0 and days < n:\n",
        "        remaining_queries += q_list[days]\n",
        "        remaining_queries -= k\n",
        "        days += 1\n",
        "    if remaining_queries >= 0:\n",
        "        days = days + int(remaining_queries/k + 1)        \n",
        "    print(days)\n"
      ],
      "execution_count": null,
      "outputs": []
    },
    {
      "cell_type": "code",
      "metadata": {
        "id": "3Fm-FUoKObMi"
      },
      "source": [
        "\n",
        "def palin(num):\n",
        "  t=num\n",
        "  r=0\n",
        "  while t!=0:\n",
        "    d=t%10\n",
        "    r=r*10+d\n",
        "    t=t//10\n",
        "  if (r==num):\n",
        "    return 1\n",
        "  else:\n",
        "    return 0\n",
        "\n",
        "\n",
        "\n"
      ],
      "execution_count": null,
      "outputs": []
    },
    {
      "cell_type": "code",
      "metadata": {
        "id": "5_tsYpreq_Y3"
      },
      "source": [
        "for _ in range(int(input())):\n",
        "    n=int(input())\n",
        "    q=10**(n//2)\n",
        "    print(1,q)\n",
        "    \n"
      ],
      "execution_count": null,
      "outputs": []
    },
    {
      "cell_type": "code",
      "metadata": {
        "id": "OzRYW58mg0vv"
      },
      "source": [
        "for _ in range(int(input())):\n",
        "  k=int(input())\n",
        "  print(\"O\", end=\"\")\n",
        "  for i in range(8):\n",
        "    if i==0:\n",
        "      n=7\n",
        "    else:\n",
        "      n=8\n",
        "    for j in range(n):\n",
        "      if k>1:\n",
        "        print(\".\",end=\"\")\n",
        "        k=k-1\n",
        "      else :\n",
        "        print(\"X\",end=\"\")\n",
        "    print()\n"
      ],
      "execution_count": null,
      "outputs": []
    },
    {
      "cell_type": "code",
      "metadata": {
        "id": "dOj8i7cWwxME"
      },
      "source": [
        "for _ in range(int(input())):\n",
        "  k=int(input())\n",
        "  i=len(str(k))\n",
        "  k=str(k)\n",
        "  a=sum(list(map(int, k.strip())))\n",
        "  n=(10**len(str(a))-a )%10 \n",
        "  s=str(k)+str(n)\n",
        "  print(s)"
      ],
      "execution_count": null,
      "outputs": []
    },
    {
      "cell_type": "code",
      "metadata": {
        "id": "DFfVcFmddTuG"
      },
      "source": [
        "for _ in range(int(input())):\n",
        "  l,r,k=map(int, input().split())\n",
        "  if l==r:\n",
        "    print(\"1\")\n",
        "  elif l>r:\n",
        "    print(\"0\")\n",
        "  else :\n",
        "    if (r-l)<k:\n",
        "      print(r-l+1)\n",
        "    else:\n",
        "      print(k)"
      ],
      "execution_count": null,
      "outputs": []
    },
    {
      "cell_type": "code",
      "metadata": {
        "id": "HXVdW4LEbLSO"
      },
      "source": [
        "for _ in range(int(input())):\n",
        "  n,u,d=map(int, input().split())\n",
        "  a=[]\n",
        "  f=1\n",
        "  c=1\n",
        "  a=list(map(int, input().split()))\n",
        "  l=len(a)-1\n",
        "  for i in range(l):\n",
        "    if a[i]<a[i+1] and a[i+1]-a[i]<=u:\n",
        "        c=c+1\n",
        "    elif a[i]>a[i+1] and a[i]-a[i+1]<=d:\n",
        "        c=c+1\n",
        "    elif a[i]>a[i+1] and f==1:\n",
        "        f=0\n",
        "        c=c+1\n",
        "    elif a[i]==a[i+1]:\n",
        "      c=c+1\n",
        "    else :\n",
        "      break\n",
        "  print(c)"
      ],
      "execution_count": null,
      "outputs": []
    },
    {
      "cell_type": "code",
      "metadata": {
        "id": "hg4Jy05BjNQ9"
      },
      "source": [
        "for _ in range(int(input())):\n",
        "  x=int(input())\n",
        "  x+=1\n",
        "  while list(map(int, str(x))).count(3) < 3: \n",
        "    x+=1\n",
        "  print(x)"
      ],
      "execution_count": null,
      "outputs": []
    },
    {
      "cell_type": "code",
      "metadata": {
        "id": "2j3kFn_6j4FG"
      },
      "source": [
        "for _ in range(int(input())):\n",
        "  y,m,d=map(int, input().split(':'))\n",
        "  x=[31,28,31,30,31,30,31,31,30,31,30,31]\n",
        "  n=m-1\n",
        "  if (y%4==0 and y%100!=0) or y%400==0:\n",
        "    x[1]=29\n",
        "  if (n==0 or n==2 or n==4 or n==6 or n==7 or n==9 or n==11) or (n==1 and x[1]==29):\n",
        "    c=((x[n]-d)//2)+1\n",
        "  else :\n",
        "    c=((x[n]+x[m]-d)//2)+1\n",
        "  print(c)\n",
        "    \n",
        "    \n",
        "\n",
        "  "
      ],
      "execution_count": null,
      "outputs": []
    },
    {
      "cell_type": "code",
      "metadata": {
        "id": "NQycffR5kiBh"
      },
      "source": [
        "for _ in range(int(input())):\n",
        "  n,h,d,j,l= map(int,input().split())\n",
        "  c=0\n",
        "  for _ in range(n):\n",
        "    t,b=map(int, input().split())\n",
        "    if l>0:\n",
        "      if t==1:\n",
        "        if h-d<=b:\n",
        "          c+=1\n",
        "        else :\n",
        "          l-=1\n",
        "          c+=1\n",
        "      if t==2:\n",
        "        if j>=b:\n",
        "          c+=1\n",
        "        else :\n",
        "          l-=1\n",
        "          c+=1\n",
        "  if (l==0):        \n",
        "    print(c-1)\n",
        "  else : \n",
        "    print(n)        "
      ],
      "execution_count": null,
      "outputs": []
    },
    {
      "cell_type": "code",
      "metadata": {
        "id": "CLT0lYBwelsQ"
      },
      "source": [
        "for _ in range(int(input())):\n",
        "    n = int(input())\n",
        "    arr = set(map(int,input().split()))\n",
        "    ar=arr.difference({0})\n",
        "    print(len(ar))\n"
      ],
      "execution_count": null,
      "outputs": []
    },
    {
      "cell_type": "code",
      "metadata": {
        "id": "zut1cW6pozir"
      },
      "source": [
        "m=int(input())\n",
        "a=list(map(int,input().split()))\n",
        "n=int(input())\n",
        "for i in range(n):\n",
        "  b=int(input())\n",
        "  print(a[b-1])\n",
        "  a.pop(b-1)"
      ],
      "execution_count": null,
      "outputs": []
    },
    {
      "cell_type": "code",
      "metadata": {
        "id": "bxPxrtut56VO"
      },
      "source": [
        "for _ in range(int(input())):\n",
        "  n=int(input())\n",
        "  a=list(map(int, input().split()))\n",
        "  while a.count(0)>0:\n",
        "    a.remove(0)\n",
        "  b=[]\n",
        "  t=0\n",
        "  a.sort(reverse = True)\n",
        "  if n==1:\n",
        "    print(a[0])\n",
        "    continue\n",
        "  if n==2:\n",
        "    print(max(a))\n",
        "    continue\n",
        "  for i in range(len(a)-1):\n",
        "    if len(a)==0:\n",
        "      break\n",
        "    if len(b)==0:\n",
        "      b.append(a[0])\n",
        "      a.pop(0)\n",
        "      #print(\"0\", a)\n",
        "    if len(b)==1 and len(a)>0:\n",
        "      b.append(a[0])\n",
        "      a.pop(0)\n",
        "      #print(\"1\", a)\n",
        "    if len(b)>1:\n",
        "      d=abs(b[0]-b[1])\n",
        "    t=t+min(b)\n",
        "    b=[]\n",
        "    if d!=0:\n",
        "      b.append(d)\n",
        "  if d!=0:\n",
        "    t=t+d\n",
        "  print(t)"
      ],
      "execution_count": null,
      "outputs": []
    },
    {
      "cell_type": "code",
      "metadata": {
        "id": "3C3AuZJwti2c"
      },
      "source": [
        "n,m,k=map(int,input().split())\n",
        "c=0\n",
        "for i in range(n):\n",
        "  a=list(map(int, input().split()))\n",
        "  x=a[-1]\n",
        "  if x<=10:\n",
        "    if (sum(a)-x)>=m:\n",
        "      c+=1\n",
        "print(c)"
      ],
      "execution_count": null,
      "outputs": []
    },
    {
      "cell_type": "code",
      "metadata": {
        "id": "4t3aMqNg2CCx"
      },
      "source": [
        "def isPrime(n) : \n",
        "  if (n <= 1) : \n",
        "    return False\n",
        "    if (n <= 3) : \n",
        "      return True\n",
        "  if (n % 2 == 0 or n % 3 == 0) : \n",
        "    return False\n",
        "  i = 5\n",
        "  while(i * i <= n) : \n",
        "    if (n % i == 0 or n % (i + 2) == 0) : \n",
        "      return False\n",
        "    i = i + 6\n",
        "  return True\n",
        "for _ in range(int(input())):\n",
        "  k, x=map(int, input().split())\n",
        "  if isPrime(x):\n",
        "    print(x+1)\n",
        "    continue\n",
        "  else:\n",
        "    \n",
        "  "
      ],
      "execution_count": null,
      "outputs": []
    },
    {
      "cell_type": "code",
      "metadata": {
        "id": "ABUqbzEtApCq"
      },
      "source": [
        "def digit(x):\n",
        "  x=abs(x)\n",
        "  x=str(x)\n",
        "  return len(x)\n",
        "n=int(input())\n",
        "a=list(map(int, input().split()))[:n]\n",
        "b=list(map(int, input().split()))[:n]\n",
        "for i in range(n):\n",
        "  if (digit(a[i])==2 and digit(b[i])==2):\n",
        "    if (a[i]%2==0 and b[i]%2!=0):\n",
        "      print(a[i]-b[i])\n",
        "    elif (a[i]%2!=0 and b[i]%2==0):\n",
        "      print(a[i]+b[i])\n",
        "    elif ((a[i]%2==0 and b[i]%2==0) or (a[i]%2!=0 and b[i]%2!=0)):\n",
        "      print(a[i]*b[i])\n",
        "  elif ((a[i]%2==0 and b[i]%2==0) or (a[i]%2!=0 and b[i]%2!=0)):\n",
        "    print(a[i]*b[i])\n",
        "  else:\n",
        "    print(\"0\")\n",
        "  "
      ],
      "execution_count": null,
      "outputs": []
    },
    {
      "cell_type": "code",
      "metadata": {
        "id": "7vLPXDx_wOsV"
      },
      "source": [
        "\n",
        "def add(r):\n",
        "  a=0\n",
        "  b=[]\n",
        "  for j in range(n):\n",
        "    a=a+r[j]\n",
        "    b.append(a)\n",
        "  return b\n",
        "n=int(input())\n",
        "r=list(map(int, input().split()))\n",
        "b=[]\n",
        "b=add(r)\n",
        "for i in range(int(input())):\n",
        "  x=int(input())\n",
        "  for k in range(n):\n",
        "    if(x<=b[k]):\n",
        "      print(k+1)\n",
        "      break"
      ],
      "execution_count": null,
      "outputs": []
    },
    {
      "cell_type": "code",
      "metadata": {
        "id": "aoPKL-t-nq99"
      },
      "source": [
        "def isPrime(n) :\n",
        "    if (n <= 1) :\n",
        "        return False\n",
        "    if (n <= 3) :\n",
        "        return True\n",
        "    if (n % 2 == 0 or n % 3 == 0) :\n",
        "        return False\n",
        "    i = 5\n",
        "    while(i * i <= n) :\n",
        "        if (n % i == 0 or n % (i + 2) == 0) :\n",
        "            return False\n",
        "        i = i + 6\n",
        "    return True\n",
        "import numpy as np\n",
        "n=int(input())\n",
        "principal = 0\n",
        "secondary = 0;\n",
        "b=[]\n",
        "for i in range(n):\n",
        "  a=list(map(int, input().split()))\n",
        "  for j in range(n):\n",
        "    b.append(a[j])\n",
        "mat = np.array(b).reshape(n,n)\n",
        "for i in range(0, n): \n",
        "  for j in range(0, n): \n",
        "    if ((i == j) and isPrime(mat[i][j])):\n",
        "      principal += mat[i][j]\n",
        "    if (((i + j) == (n - 1)) and isPrime(mat[i][j])):\n",
        "      secondary += mat[i][j]\n",
        "print(principal+secondary)\n",
        "#matrix = np.array(b).reshape(n,n)\n",
        "#print(matrix)\n",
        "\n",
        "\n"
      ],
      "execution_count": null,
      "outputs": []
    },
    {
      "cell_type": "code",
      "metadata": {
        "id": "UJeujXDPc4j6"
      },
      "source": [
        "s=input()\n",
        "x=['']\n",
        "z='-'\n",
        "a=['0','1','2','3','4','5','6','7','8','9','a','b','c','d','e','f','g','h','i','j','k','l','m','n','o','p','q','r','s','t','u','v','x','y','z']\n",
        "b=['']\n",
        "for i in range(len(s)):\n",
        "  if (s[i].isdigit()):\n",
        "    x.append(s[i])\n",
        "for i in range(len(s)):\n",
        "  if (s[i].isalpha()):\n",
        "    x.append(s[i])\n",
        "\n",
        "for i in range(len(x)):\n",
        "  if (x[i] in a):\n",
        "    if (x[i] not in b):\n",
        "      q=x[i]+z+str(x.count(x[i]))\n",
        "      print(q)\n",
        "      b.append(x[i])"
      ],
      "execution_count": null,
      "outputs": []
    },
    {
      "cell_type": "code",
      "metadata": {
        "id": "bHSEGg3MqLPx"
      },
      "source": [
        "n=int(input())\n",
        "x=input()\n",
        "a=''\n",
        "st=''\n",
        "l=[]\n",
        "s=[]\n",
        "for i in range(n):\n",
        "  st=st+'a'*(i+1)+'b'*(i+1)+'c'*(i+1)\n",
        "i=0\n",
        "j=0\n",
        "while i<len(st) and j<len(x):\n",
        "  if x[j]!=st[i]:\n",
        "    s.append(st[i])\n",
        "    i+=1\n",
        "  else:\n",
        "    j+=1\n",
        "    i+=1\n",
        "print(''.join(s))"
      ],
      "execution_count": null,
      "outputs": []
    },
    {
      "cell_type": "code",
      "metadata": {
        "id": "nUypKJuKA1dK"
      },
      "source": [
        "num=int(input())\n",
        "c=0\n",
        "while (num//5!=0):\n",
        "  num=num//5\n",
        "  c+=num\n",
        "print(c)"
      ],
      "execution_count": null,
      "outputs": []
    },
    {
      "cell_type": "code",
      "metadata": {
        "id": "DC7Vx2JRGzSN"
      },
      "source": [
        "n=int(input())\n",
        "r=list (map(int,input().split()))\n",
        "f=0\n",
        "i=0\n",
        "x=int(input())\n",
        "while f==0 and i<n:\n",
        "  if x==r[i]:\n",
        "    print(i+1)\n",
        "    f=1\n",
        "  i+=1\n",
        "if f==0:\n",
        "  print(\"-1\")  \n"
      ],
      "execution_count": null,
      "outputs": []
    },
    {
      "cell_type": "code",
      "metadata": {
        "id": "Xz5GaEJydfav"
      },
      "source": [
        "n=int(input())\n",
        "x=int(input())\n",
        "s=list(map(int, input().split()))\n",
        "s.sort(reverse=True)\n",
        "i=0\n",
        "t=0\n",
        "#print(s)\n",
        "while n!=0 and n>s[-1]:\n",
        "  c=n//s[i]\n",
        "  t+=c\n",
        "  #print(c)\n",
        "  n=n%s[i]\n",
        "  print(\"n\",n)\n",
        "  i+=1\n",
        "if n!=0 and 1 in s:\n",
        "  t+=n\n",
        "print(t)"
      ],
      "execution_count": null,
      "outputs": []
    },
    {
      "cell_type": "code",
      "metadata": {
        "id": "MWoSrHmBIXib"
      },
      "source": [
        "for i in range(int(input())):\n",
        "  r,b,d=map(int, input().split())\n",
        "  c=0\n",
        "  x=min(r,b)\n",
        "  y=max(r,b)\n",
        "  if y-x<=d:\n",
        "    print(\"yes\")\n",
        "  else:\n",
        "    try:\n",
        "      c=y//d\n",
        "      x1=x//c\n",
        "      y1=y//c\n",
        "      if y1-x1<=d:\n",
        "        print(\"yes\")\n",
        "      else:\n",
        "        print(\"no\")\n",
        "    except:\n",
        "      print(\"no\")\n",
        "    \n"
      ],
      "execution_count": null,
      "outputs": []
    },
    {
      "cell_type": "code",
      "metadata": {
        "id": "xTWmsN6J8prw"
      },
      "source": [
        "x=int(input())\n",
        "n=list(map(int,input().split()))\n",
        "cs=0\n",
        "ms=0\n",
        "m=[]\n",
        "for i in range(len(n)):\n",
        "  cs+=n[i]\n",
        "  if cs>=ms:\n",
        "    ms=cs\n",
        "  if cs<0:\n",
        "    cs=0\n",
        "    \n",
        "if ms==0 and 0 not in n:\n",
        "  ms=max(n)\n",
        "print(ms)"
      ],
      "execution_count": null,
      "outputs": []
    },
    {
      "cell_type": "code",
      "metadata": {
        "id": "NY7bj_Mvy_x6"
      },
      "source": [
        "\n",
        "for i in range(int(input())):\n",
        "    n=int(input())\n",
        "    arr=list(map(int,input().split()))\n",
        "    \n",
        "    orig_zero_count = 0\n",
        "    max_diff = 0\n",
        "    curr_max = 0\n",
        "\n",
        "    for i in range(n):\n",
        "        if arr[i] == 1:\n",
        "            orig_zero_count += 1\n",
        "        val = 1 if arr[i] == 0 else -1\n",
        "        curr_max = max(val, curr_max + val)\n",
        "        max_diff = max(max_diff, curr_max)\n",
        "    max_diff = max(1, max_diff)\n",
        "    if 0 not in arr:\n",
        "      max_diff-=1\n",
        "    print(orig_zero_count + max_diff)"
      ],
      "execution_count": null,
      "outputs": []
    },
    {
      "cell_type": "code",
      "metadata": {
        "id": "aJ_PHvB9wKUj"
      },
      "source": [
        "k=int(input())\n",
        "n=int(input())\n",
        "arr=list(map(int,input().split()))\n",
        "cs=0\n",
        "ms=0\n",
        "for i in range(n-k+1):\n",
        "  for x in range(i,i+k):\n",
        "    cs+=arr[x]\n",
        "  if ms<=cs:\n",
        "    ms=cs\n",
        "  cs=0\n",
        "print(ms)\n"
      ],
      "execution_count": null,
      "outputs": []
    },
    {
      "cell_type": "code",
      "metadata": {
        "id": "-tsTnIIo_HOl"
      },
      "source": [
        "n=int(input())\n",
        "a=list(map(int, input().split()))\n",
        "t=a[-1]\n",
        "a[-1]=a[0]\n",
        "for i in range(n-1):\n",
        "  a[i]=a[i+1]\n",
        "if n>1:\n",
        "  a[-2]=t\n",
        "for i in range(n):\n",
        "  print(a[i],end=\" \")"
      ],
      "execution_count": null,
      "outputs": []
    },
    {
      "cell_type": "code",
      "metadata": {
        "id": "jKWbB38UEJwS"
      },
      "source": [
        "f=0\n",
        "n=int(input())\n",
        "a=list(map(int, input().split()))\n",
        "for i in range(n-1):\n",
        "  if a[i]%2==0 and a[i+1]%2==0:\n",
        "    if f==0:\n",
        "      print(i)\n",
        "      f=1\n",
        "if f==0:\n",
        "  print(\"-1\")  \n",
        "  \n"
      ],
      "execution_count": null,
      "outputs": []
    },
    {
      "cell_type": "code",
      "metadata": {
        "id": "F4F2uqaHun3i"
      },
      "source": [
        "t=int(input())\n",
        "for x in range(t):\n",
        "  n,k=map(int, input().split())\n",
        "  arr=list(map(int, input().split()))\n",
        "  arr*=k\n",
        "  cs=0\n",
        "  ms=0\n",
        "  for i in range(len(arr)):\n",
        "    cs+=arr[i]\n",
        "    if cs>=ms:\n",
        "      ms=cs\n",
        "    if cs<0:\n",
        "      cs=0\n",
        "  if ms==0 and 0 not in arr:\n",
        "    ms=max(arr)\n",
        "  print(ms)   \n",
        "  \n"
      ],
      "execution_count": null,
      "outputs": []
    },
    {
      "cell_type": "code",
      "metadata": {
        "id": "jaMmr5gAARjk"
      },
      "source": [
        "for i in range(int(input())):\n",
        "  n,x,k=map(int, input().split())\n",
        "  f=0\n",
        "  try:\n",
        "    for j in range(0,n+2,k):\n",
        "      if x==j:\n",
        "        f=1\n",
        "    if f==0:\n",
        "      for m in range(n+1,0,-k):\n",
        "        \n",
        "        if x==m:\n",
        "          f=1\n",
        "    if f==1:\n",
        "      print(\"YES\")\n",
        "    else:\n",
        "      print(\"NO\")\n",
        "  except:\n",
        "    print(\"NO\")\n"
      ],
      "execution_count": null,
      "outputs": []
    },
    {
      "cell_type": "code",
      "metadata": {
        "id": "klhZyZixeAhX"
      },
      "source": [
        "for i in range(int(input())):\n",
        "  n,k=map(int, input().split())\n",
        "  arr=list(map(int, input().split()))\n",
        "  arr = (arr[len(arr) - k:len(arr)] + arr[0:len(arr) - k])\n",
        "  for j in range(n):\n",
        "    print(arr[j],end=\" \")"
      ],
      "execution_count": null,
      "outputs": []
    },
    {
      "cell_type": "code",
      "metadata": {
        "id": "QfIn_VnRPTtO"
      },
      "source": [
        "import numpy as np\n",
        "for t in range(int(input())):\n",
        "  b=[]\n",
        "  row,col=map(int, input().split())\n",
        "  for i in range(row):\n",
        "    a=list(map(int, input().split()))\n",
        "    for j in range(col):\n",
        "      b.append(a[j])\n",
        "  mat=np.array(b).reshape(row,col)\n",
        "  print(mat)\n",
        "  print(mat[2][2])\n"
      ],
      "execution_count": null,
      "outputs": []
    },
    {
      "cell_type": "code",
      "metadata": {
        "id": "Th-0U7xo4jqm"
      },
      "source": [
        "n = int(input(\"Enter number of rows\"))\n",
        "m=int(input(\"Enter no. of column\")) \n",
        "matrix = []\n",
        "for x in range(n):\n",
        "    matrix.append([int(y) for y in input().split()])\n",
        "print(matrix)\n",
        "#print(matrix[1][1])"
      ],
      "execution_count": null,
      "outputs": []
    },
    {
      "cell_type": "code",
      "metadata": {
        "id": "Lp2BGcseJVD7"
      },
      "source": [
        "def kadane(arr, start, finish, n):\n",
        "\tSum = 0\n",
        "\tmaxSum = -999999999999\n",
        "\ti = None\n",
        "\tfinish[0] = -1\n",
        "\tlocal_start = 0\n",
        "\n",
        "\tfor i in range(n):\n",
        "\t\tSum += arr[i]\n",
        "\t\tif Sum < 0:\n",
        "\t\t\tSum = 0\n",
        "\t\t\tlocal_start = i + 1\n",
        "\t\telif Sum > maxSum:\n",
        "\t\t\tmaxSum = Sum\n",
        "\t\t\tstart[0] = local_start\n",
        "\t\t\tfinish[0] = i\n",
        "\n",
        "\tif finish[0] != -1:\n",
        "\t\treturn maxSum\n",
        "\n",
        "\tmaxSum = arr[0]\n",
        "\tstart[0] = finish[0] = 0\n",
        "\n",
        "\tfor i in range(1, n):\n",
        "\t\tif arr[i] > maxSum:\n",
        "\t\t\tmaxSum = arr[i]\n",
        "\t\t\tstart[0] = finish[0] = i\n",
        "\treturn maxSum\n",
        "\n",
        "def findMaxSum(M):\n",
        "\tglobal ROW, COL\n",
        "\n",
        "\t# Variables to store the final output\n",
        "\tmaxSum, finalLeft = -999999999999, None\n",
        "\tfinalRight, finalTop, finalBottom = None, None, None\n",
        "\tleft, right, i = None, None, None\n",
        "\n",
        "\ttemp = [None] * ROW\n",
        "\tSum = 0\n",
        "\tstart = [0]\n",
        "\tfinish = [0]\n",
        "\n",
        "\t\n",
        "\tfor left in range(COL):\n",
        "\n",
        "\t\n",
        "\t\ttemp = [0] * ROW\n",
        "\t\tfor right in range(left, COL):\n",
        "\n",
        "\t\t\tfor i in range(ROW):\n",
        "\t\t\t\ttemp[i] += M[i][right]\n",
        "\n",
        "\t\t\tSum = kadane(temp, start, finish, ROW)\n",
        "\n",
        "\t\t\tif Sum > maxSum:\n",
        "\t\t\t\tmaxSum = Sum\n",
        "\t\t\t\tfinalLeft = left\n",
        "\t\t\t\tfinalRight = right\n",
        "\t\t\t\tfinalTop = start[0]\n",
        "\t\t\t\tfinalBottom = finish[0]\n",
        "\n",
        "\t# Prfinal values\n",
        "\t\n",
        "  print(\"(Top, Left)\", \"(\", finalTop,\n",
        "\t\tfinalLeft, \")\")\n",
        "\tprint(\"(Bottom, Right)\", \"(\", finalBottom,\n",
        "\t\tfinalRight, \")\")\n",
        "\tprint(\"Max sum is:\", maxSum)\n",
        "  print(maxSum)\n",
        "\n",
        "# Driver Code\n",
        "#input of matrix\n",
        "for tc in range(int(input())):\n",
        "  ROW,COL= map(int,input().split())\n",
        "  M = []\n",
        "  for x in range(ROW):\n",
        "    M.append([int(y) for y in input().split()])\n",
        "  #ROW = 4\n",
        "  #COL = 5\n",
        "  #M = [[1, 2, -1, -4, -20],\n",
        "  #\t[-8, -3, 4, 2, 1],\n",
        "  #\t[3, 8, 10, 1, 3],\n",
        "  #\t[-4, -1, 1, 7, -6]]\n",
        "\n",
        "  # Function call\n",
        "  findMaxSum(M)\n",
        "\n"
      ],
      "execution_count": null,
      "outputs": []
    },
    {
      "cell_type": "code",
      "metadata": {
        "id": "R0ipvvQqxblU"
      },
      "source": [
        "l=list(map(int, input().split()))\n",
        "n=len(l)\n",
        "z,o,t=0,0,0\n",
        "for i in range(n):\n",
        "  if l[i]==0:\n",
        "    z+=1\n",
        "  elif l[i]==1:\n",
        "    o+=1\n",
        "  else:\n",
        "    t+=1\n",
        "l=[]\n",
        "while z!=0:\n",
        "  l.append(0)\n",
        "  z-=1\n",
        "while o!=0:\n",
        "  l.append(1)\n",
        "  o-=1\n",
        "while t!=0:\n",
        "  l.append(2)\n",
        "  t-=1\n",
        "print(l)"
      ],
      "execution_count": null,
      "outputs": []
    },
    {
      "cell_type": "code",
      "metadata": {
        "id": "afASMLxpxc2A"
      },
      "source": [
        "def Dutch(l):\n",
        "  global n\n",
        "  low=0\n",
        "  mid=0\n",
        "  high=n-1\n",
        "  while mid<=high:\n",
        "    if l[mid]==0:\n",
        "      l[low],l[mid]=l[mid],l[low]\n",
        "      low+=1\n",
        "      mid+=1\n",
        "    elif l[mid]==1:\n",
        "      mid+=1\n",
        "    else:\n",
        "      l[mid],l[high]=l[high],l[mid]\n",
        "      high-=1\n",
        "  return l\n",
        "l=list(map(int, input().split()))\n",
        "n=len(l)\n",
        "print(Dutch(l))"
      ],
      "execution_count": null,
      "outputs": []
    },
    {
      "cell_type": "code",
      "metadata": {
        "id": "PCLC4Ptegowz"
      },
      "source": [
        "v=input()\n",
        "for i in range(int(input())):\n",
        "  b=input()\n",
        "  a=list(v)\n",
        "  for x in range(len(b)):\n",
        "    if b[x]in(a):\n",
        "      c=a.index(b[x])\n",
        "      del a[0:c]\n",
        "      f=1\n",
        "      #print(b[x],a[x])\n",
        "    else:\n",
        "      f=0\n",
        "      print(b[x])\n",
        "      break\n",
        "  if f==1:\n",
        "    print(\"POSITIVE\")\n",
        "  if f==0:\n",
        "    print(\"NEGATIVE\")\n"
      ],
      "execution_count": null,
      "outputs": []
    },
    {
      "cell_type": "code",
      "metadata": {
        "id": "cO7AqMNWhoH-"
      },
      "source": [
        "def prime(a,b):\n",
        "  if a>b:\n",
        "    c=-1\n",
        "    b-=1\n",
        "  else:\n",
        "    c=1\n",
        "    b+=1\n",
        "  p=1\n",
        "  x=a\n",
        "  for x in range(a,b,c):\n",
        "    p=1\n",
        "    for d in range(2,x):\n",
        "      if x%d==0:\n",
        "        p=0\n",
        "        break\n",
        "    if p==1:\n",
        "      break\n",
        "  if p==1:\n",
        "    return x\n",
        "  else: \n",
        "    return a\n",
        "\n",
        "def isprime(m):\n",
        "  for k in range(2,m):\n",
        "    if m%k==0:\n",
        "      return 0\n",
        "  return 1\n",
        "\n",
        "for i in range(int(input())):\n",
        "  l,r=map(int,input().split())\n",
        "  p1,p2=prime(l,r),prime(r,l)\n",
        "  if isprime(p1) and isprime(p2):\n",
        "    print(p2-p1)\n",
        "  else:#isprime(p1) and isprime(p2) and p1==p2:\n",
        "    print(-1)\n",
        "  #print(p1,p2)"
      ],
      "execution_count": null,
      "outputs": []
    },
    {
      "cell_type": "markdown",
      "metadata": {
        "id": "ofpDdHVG66Qo"
      },
      "source": [
        "smallest royal number i.e. number divisible by 2,3 and 5\n"
      ]
    },
    {
      "cell_type": "code",
      "metadata": {
        "colab": {
          "base_uri": "https://localhost:8080/"
        },
        "id": "-808nuVRGnbt",
        "outputId": "c2ac29d8-e0c5-47b6-fea2-75a404681263"
      },
      "source": [
        "a=list(map(int, input().split()))\n",
        "a.sort()\n",
        "f=0\n",
        "for i in range(len(a)):\n",
        "  if a[i]%2==0 and a[i]%3==0 and a[i]%5==0:\n",
        "    print(a[i])\n",
        "    f=1\n",
        "    break\n",
        "if f==0:\n",
        "  print(\"NO\")"
      ],
      "execution_count": null,
      "outputs": [
        {
          "output_type": "stream",
          "text": [
            "32 30 62 90\n",
            "30\n"
          ],
          "name": "stdout"
        }
      ]
    },
    {
      "cell_type": "markdown",
      "metadata": {
        "id": "ae-o_l9_5kq3"
      },
      "source": [
        "n=any number between 1 to less than length of s representing capacity of a room\n",
        "\n",
        "s= string each alphabet representing a student. first occurrence signifies arrival of the student and 2nd occurrence the departure. only n students can be in a room.\n",
        "at one time.\n",
        "\n",
        "dispaly number of students that can't enter the room\n",
        "\n",
        "e.g n=3\n",
        "s=GACCBGDDBAEE\n",
        "display=0\n",
        "i.e all students were able to enter\n",
        "\n",
        "e.g. n=3\n",
        "s=GACCBDDBAGEE\n",
        "display=1\n",
        "i.e one student was not able to enter the room"
      ]
    },
    {
      "cell_type": "code",
      "metadata": {
        "id": "1O2TOGYInvQD",
        "colab": {
          "base_uri": "https://localhost:8080/"
        },
        "outputId": "368d6a34-3e48-417e-cec1-9a2195bdb7ff"
      },
      "source": [
        " \n",
        "n=int(input())\n",
        "s=input()\n",
        "o=\"\"\n",
        "k=0\n",
        "c=0\n",
        "i=0\n",
        "l=len(s)\n",
        "while i<l:\n",
        "  if s[i] in o:\n",
        "    o=o.replace(s[i],'')\n",
        "    k-=1\n",
        "    # print(\"1 o=\",o,\"s=\",s)\n",
        "  elif len(o)<n:\n",
        "    o+=(s[i])\n",
        "    k+=1\n",
        "    # print(\"2 o=\",o,\"s=\",s)\n",
        "  else:\n",
        "    c+=1\n",
        "    # print(\"3 o=\",o,\"s=\",s,\"s[i]=\",s[i])\n",
        "    s=s.replace(s[i],'')\n",
        "    l=len(s)\n",
        "  i+=1\n",
        "print(c)"
      ],
      "execution_count": null,
      "outputs": [
        {
          "output_type": "stream",
          "text": [
            "3\n",
            "GACCBDDBAGEE\n",
            "2\n"
          ],
          "name": "stdout"
        }
      ]
    },
    {
      "cell_type": "markdown",
      "metadata": {
        "id": "mdwKjvgw4Jjl"
      },
      "source": [
        "C++ program for longest palindrome substring"
      ]
    },
    {
      "cell_type": "code",
      "metadata": {
        "id": "vdWc4XaB4G30"
      },
      "source": [
        "#include<iostream>\n",
        "#include<string>\n",
        "#include <bits/stdc++.h>\n",
        "using namespace std;\n",
        "int main()\n",
        "{\n",
        "    string str;\n",
        "    int n;\n",
        "    string lps=\"\";\n",
        "    cin>>n;\n",
        "    cin>>str;\n",
        "    n=str.size();\n",
        "    bool table[n][n];\n",
        "    // used to set all elemnents to 0\n",
        "    memset(table,0,sizeof(table));\n",
        "    int maxlen=1;\n",
        "    for(int i=0;i<n;i++)\n",
        "    {\n",
        "        table[i][i]=true;\n",
        "        lps=str[i];\n",
        "    }\n",
        "    for(int i=0;i<n-1;i++)\n",
        "    {\n",
        "        if(str[i]==str[i+1])\n",
        "        {\n",
        "            table[i][i+1]=true;\n",
        "      \n",
        "            lps=str.substr(i,i+1);\n",
        "            maxlen=2;\n",
        "        }\n",
        "    }\n",
        "    for(int k=3;k<=n;k++)\n",
        "    {\n",
        "        for(int i=0;i<n-k+1;i++)\n",
        "        {\n",
        "            int j=i+k-1;\n",
        "            if(str[i]==str[j] && table[i+1][j-1])\n",
        "            {\n",
        "                table[i][j]=true;\n",
        "                if(k>maxlen)\n",
        "                {\n",
        "                    maxlen=k;\n",
        "                    lps=str.substr(i,k);\n",
        "                }\n",
        "            }\n",
        "        }\n",
        "    }\n",
        "    cout<<maxlen<<endl<<lps;\n",
        "    return 0;"
      ],
      "execution_count": null,
      "outputs": []
    },
    {
      "cell_type": "code",
      "metadata": {
        "id": "gZIvHzq_VdAO"
      },
      "source": [
        "# C++ prog for ENDCORR on codechef using array\n",
        "#include<iostream>\n",
        "#include<bits/stdc++.h>\n",
        "using namespace std;\n",
        "int maxele=0;\n",
        "int len=0;\n",
        "int largest(int b[], int l)\n",
        "{\n",
        "    return *max_element(b, b+l);\n",
        "}\n",
        "int delmax(int c[])\n",
        "{\n",
        "    for(int i=0;i<len;i++)\n",
        "    {\n",
        "        if(c[i]==maxele)\n",
        "        c[i]=0;\n",
        "        else\n",
        "        c[i]=c[i];\n",
        "    }\n",
        "    return(c[len]);\n",
        "}\n",
        "int main()\n",
        "{\n",
        "    int n,m;\n",
        "    cin>>n>>m;\n",
        "    len=m+n;\n",
        "    int a[m+n];\n",
        "    int b[m+n];\n",
        "    memset(b,0,sizeof(b));\n",
        "    for(int i=0; i<n+m;i++)\n",
        "    {\n",
        "        cin>>a[i];\n",
        "    }\n",
        "    for(int i=0;i<n+m;i++)\n",
        "    {\n",
        "        b[i]=a[i];\n",
        "        if(a[i]==-1)\n",
        "        {\n",
        "            int l = sizeof(b)/sizeof(b[0]);\n",
        "            maxele=largest(b, l);\n",
        "            cout <<maxele<<endl;\n",
        "            delmax(b);\n",
        "        }\n",
        "\n",
        "    }\n",
        "    return 0;\n",
        "\n",
        "}\n"
      ],
      "execution_count": null,
      "outputs": []
    },
    {
      "cell_type": "code",
      "metadata": {
        "colab": {
          "base_uri": "https://localhost:8080/"
        },
        "id": "kuwpzYN7gyDk",
        "outputId": "90e9519d-91af-4b6a-c115-9b4a19be007f"
      },
      "source": [
        "for i in range(int(input())):\n",
        "  D,d,p,q=map(int,input().split())\n",
        "  count=0\n",
        "  x=D//d\n",
        "  if x%2==0:\n",
        "    count+= d*((x//2)*(2*p+(x-1)*q))\n",
        "  else:\n",
        "    count+=d*(x*(p+((x-1)//2)*q));\n",
        "  count+=(D%d)*(p+(x)*q)\n",
        "  print(count)\n",
        "\n"
      ],
      "execution_count": null,
      "outputs": [
        {
          "output_type": "stream",
          "text": [
            "3\n",
            "2 1 1 1\n",
            "3\n",
            "3 2 1 1\n",
            "4\n",
            "5 2 1 2\n",
            "13\n"
          ],
          "name": "stdout"
        }
      ]
    },
    {
      "cell_type": "code",
      "metadata": {
        "colab": {
          "base_uri": "https://localhost:8080/"
        },
        "id": "cK3aFFDlmVUz",
        "outputId": "ec591314-5b6f-4d8f-9386-188e9fb7cfe0"
      },
      "source": [
        "nums=list(map(int,input().split()))\n",
        "nums.sort()\n",
        "c=1\n",
        "cm=0\n",
        "for i in range(len(nums)-1):\n",
        "  if nums[i+1]-nums[i]==1:\n",
        "    c+=1\n",
        "    if c>cm:\n",
        "      cm=c\n",
        "  else:\n",
        "    c=1\n",
        "print(cm)\n",
        "        "
      ],
      "execution_count": null,
      "outputs": [
        {
          "output_type": "stream",
          "text": [
            "100 4 200 1 2 3\n",
            "4\n"
          ],
          "name": "stdout"
        }
      ]
    },
    {
      "cell_type": "code",
      "metadata": {
        "id": "yryLBE81ud4R",
        "colab": {
          "base_uri": "https://localhost:8080/"
        },
        "outputId": "49d4ba7f-c7b2-4d93-b87f-b2628a93eea2"
      },
      "source": [
        "# smallest 1 digit bigger number than what we enter\n",
        "for i in range(int(input())):\n",
        "  a=input()\n",
        "  if a[0]=='1':\n",
        "    b=a[0]+'0'+a[1:]\n",
        "  else:\n",
        "    b='1'+a;\n",
        "  print(b)"
      ],
      "execution_count": null,
      "outputs": [
        {
          "output_type": "stream",
          "text": [
            "2\n",
            "12345678999\n",
            "102345678999\n",
            "9876543211\n",
            "19876543211\n"
          ],
          "name": "stdout"
        }
      ]
    },
    {
      "cell_type": "code",
      "metadata": {
        "colab": {
          "base_uri": "https://localhost:8080/"
        },
        "id": "Ktj3iXQu7qjw",
        "outputId": "2abcf049-f9b6-4c83-aeec-9c5f3d4f083f"
      },
      "source": [
        "for i in range(int(input())):\n",
        "  a=input()\n",
        "  b=a[2:-1]\n",
        "  h1=a[0:2]\n",
        "  h2=a[-1]\n",
        "  b1=''\n",
        "  \n",
        "  for j in range(len(b)):\n",
        "    if b[j].isalpha():\n",
        "      b1+=b[j]\n",
        "  if h1=='</' and h2=='>' and b.isalnum() and (b1.islower() or b1==''):\n",
        "    print(\"Success\")\n",
        "  else:\n",
        "    print(\"error\")"
      ],
      "execution_count": null,
      "outputs": [
        {
          "output_type": "stream",
          "text": [
            "2\n",
            "</he3e33>\n",
            "Success\n",
            "</4444>\n",
            "Success\n"
          ],
          "name": "stdout"
        }
      ]
    },
    {
      "cell_type": "code",
      "metadata": {
        "colab": {
          "base_uri": "https://localhost:8080/"
        },
        "id": "INuFoDQG1y5b",
        "outputId": "7fb0b76c-2847-43db-dcd8-be737b48ed37"
      },
      "source": [
        "# Bit Maipulation\n",
        "# n=any decimal number\n",
        "# i,j,k,m= bit position which is to be switched on, off, toggled, and checked respectively\n",
        "\n",
        "i=1 \n",
        "j=1\n",
        "k=1\n",
        "m=1\n",
        "n=int(input())\n",
        "on=(1<<i)\n",
        "off=~(1<<j)\n",
        "toggle=(1<<k)\n",
        "check=(1<<m)\n",
        "\n",
        "print(\"when i th bit is switched on =\",n|on)\n",
        "print(\"when j th bit is switched off =\",n&off)\n",
        "print(\"when k th bit is toggled =\",n^toggle)\n",
        "if (n&check)==0:\n",
        "  print(\"m th bit is 0\")\n",
        "else:\n",
        "  print(\"m th bit is 1\")\n"
      ],
      "execution_count": null,
      "outputs": [
        {
          "output_type": "stream",
          "text": [
            "4\n",
            "when i th bit is switched on= 6\n",
            "when j th bit is switched off= 4\n",
            "when k th bit is toggled= 6\n",
            "m th bit is 0\n"
          ],
          "name": "stdout"
        }
      ]
    },
    {
      "cell_type": "code",
      "metadata": {
        "colab": {
          "base_uri": "https://localhost:8080/"
        },
        "id": "EY8UdSyUA-J0",
        "outputId": "8ec736f9-9d46-4d5e-e0dd-fadea32ae3b5"
      },
      "source": [
        "# find the rightmost most set bit mask\n",
        "n=int(input())\n",
        "rmsb=(n&-n)  #this is right most set bit mask\n",
        "# print(rmsb)\n",
        "b=bin(rmsb).replace(\"0b\", \"\")\n",
        "print(b)\n",
        "s=str(b)\n",
        "\n",
        "s= \"\".join(reversed(s))\n",
        "o=s.index('1')\n",
        "print(o+1)"
      ],
      "execution_count": null,
      "outputs": [
        {
          "output_type": "stream",
          "text": [
            "4\n",
            "100\n",
            "3\n"
          ],
          "name": "stdout"
        }
      ]
    },
    {
      "cell_type": "code",
      "metadata": {
        "colab": {
          "base_uri": "https://localhost:8080/"
        },
        "id": "xGn6AwtEX5-e",
        "outputId": "576a3204-b58f-4802-9a38-78549053b53a"
      },
      "source": [
        "n=int(input())\n",
        "c=0\n",
        "while n!=0:\n",
        "  rsbm=(n&-n)\n",
        "  n-=rsbm\n",
        "  c+=1\n",
        "print(c)\n",
        "# CPP code\n",
        "# #include<cmath>\n",
        "# #include<cstdio>\n",
        "# #include<vector>\n",
        "# #include<iostream>\n",
        "# #include<algorithm>\n",
        "# #include<string>\n",
        "# #include <bits/stdc++.h>\n",
        "# using namespace std;\n",
        "# int main() \n",
        "# {\n",
        "#      int n,rsbm,c=0;\n",
        "#      cin>>n;\n",
        "#      while(n!=0)\n",
        "#      {\n",
        "#         rsbm=(n&-n);\n",
        "#         n-=rsbm;\n",
        "#         c++;\n",
        "#      }\n",
        "#      cout<<c;\n",
        "# return 0;\n",
        "# }"
      ],
      "execution_count": null,
      "outputs": [
        {
          "output_type": "stream",
          "text": [
            "57\n",
            "4\n"
          ],
          "name": "stdout"
        }
      ]
    }
  ]
}